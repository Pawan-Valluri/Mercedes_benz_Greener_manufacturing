{
 "cells": [
  {
   "cell_type": "code",
   "execution_count": 14,
   "metadata": {},
   "outputs": [],
   "source": [
    "import pandas as pd\n",
    "import numpy as np\n",
    "from sklearn.preprocessing import LabelEncoder\n",
    "import warnings\n",
    "warnings.filterwarnings(\"ignore\")\n",
    "from sklearn.decomposition import PCA\n",
    "from xgboost import XGBRegressor\n",
    "import seaborn as sns\n",
    "import matplotlib.pyplot as plt"
   ]
  },
  {
   "cell_type": "code",
   "execution_count": 53,
   "metadata": {},
   "outputs": [
    {
     "name": "stdout",
     "output_type": "stream",
     "text": [
      "\u001b[1m\n",
      "The number of uniqe values for both Test and Train Datasets for each colums are :\n"
     ]
    },
    {
     "data": {
      "text/html": [
       "<div>\n",
       "<style scoped>\n",
       "    .dataframe tbody tr th:only-of-type {\n",
       "        vertical-align: middle;\n",
       "    }\n",
       "\n",
       "    .dataframe tbody tr th {\n",
       "        vertical-align: top;\n",
       "    }\n",
       "\n",
       "    .dataframe thead th {\n",
       "        text-align: right;\n",
       "    }\n",
       "</style>\n",
       "<table border=\"1\" class=\"dataframe\">\n",
       "  <thead>\n",
       "    <tr style=\"text-align: right;\">\n",
       "      <th></th>\n",
       "      <th>ID</th>\n",
       "      <th>X0</th>\n",
       "      <th>X1</th>\n",
       "      <th>X2</th>\n",
       "      <th>X3</th>\n",
       "      <th>X4</th>\n",
       "      <th>X5</th>\n",
       "      <th>X6</th>\n",
       "      <th>X8</th>\n",
       "      <th>X10</th>\n",
       "      <th>...</th>\n",
       "      <th>X375</th>\n",
       "      <th>X376</th>\n",
       "      <th>X377</th>\n",
       "      <th>X378</th>\n",
       "      <th>X379</th>\n",
       "      <th>X380</th>\n",
       "      <th>X382</th>\n",
       "      <th>X383</th>\n",
       "      <th>X384</th>\n",
       "      <th>X385</th>\n",
       "    </tr>\n",
       "  </thead>\n",
       "  <tbody>\n",
       "    <tr>\n",
       "      <th>Train</th>\n",
       "      <td>4209</td>\n",
       "      <td>47</td>\n",
       "      <td>27</td>\n",
       "      <td>44</td>\n",
       "      <td>7</td>\n",
       "      <td>4</td>\n",
       "      <td>29</td>\n",
       "      <td>12</td>\n",
       "      <td>25</td>\n",
       "      <td>2</td>\n",
       "      <td>...</td>\n",
       "      <td>2</td>\n",
       "      <td>2</td>\n",
       "      <td>2</td>\n",
       "      <td>2</td>\n",
       "      <td>2</td>\n",
       "      <td>2</td>\n",
       "      <td>2</td>\n",
       "      <td>2</td>\n",
       "      <td>2</td>\n",
       "      <td>2</td>\n",
       "    </tr>\n",
       "    <tr>\n",
       "      <th>Test</th>\n",
       "      <td>4209</td>\n",
       "      <td>49</td>\n",
       "      <td>27</td>\n",
       "      <td>45</td>\n",
       "      <td>7</td>\n",
       "      <td>4</td>\n",
       "      <td>32</td>\n",
       "      <td>12</td>\n",
       "      <td>25</td>\n",
       "      <td>2</td>\n",
       "      <td>...</td>\n",
       "      <td>2</td>\n",
       "      <td>2</td>\n",
       "      <td>2</td>\n",
       "      <td>2</td>\n",
       "      <td>2</td>\n",
       "      <td>2</td>\n",
       "      <td>2</td>\n",
       "      <td>2</td>\n",
       "      <td>2</td>\n",
       "      <td>2</td>\n",
       "    </tr>\n",
       "  </tbody>\n",
       "</table>\n",
       "<p>2 rows × 377 columns</p>\n",
       "</div>"
      ],
      "text/plain": [
       "         ID  X0  X1  X2  X3  X4  X5  X6  X8  X10  ...  X375  X376  X377  X378  \\\n",
       "Train  4209  47  27  44   7   4  29  12  25    2  ...     2     2     2     2   \n",
       "Test   4209  49  27  45   7   4  32  12  25    2  ...     2     2     2     2   \n",
       "\n",
       "       X379  X380  X382  X383  X384  X385  \n",
       "Train     2     2     2     2     2     2  \n",
       "Test      2     2     2     2     2     2  \n",
       "\n",
       "[2 rows x 377 columns]"
      ]
     },
     "metadata": {},
     "output_type": "display_data"
    },
    {
     "name": "stdout",
     "output_type": "stream",
     "text": [
      "\u001b[1mNo. of null values in train Dataset are : 0\n",
      "No. of null values in test Dataset are : 0\n",
      "\n",
      "predictions =\u001b[0m [ 80.58816   93.68892   93.33464  ...  93.23253  110.784546  96.816956]\n"
     ]
    }
   ],
   "source": [
    "#Reading the Datasets:\n",
    "df_train = pd.read_csv(\"C:\\Projects\\Projects for Submission\\Project 1 - Mercedes-Benz Greener Manufacturing\\Dataset for the project\\\\train.csv\")\n",
    "df_test = pd.read_csv(\"C:\\Projects\\Projects for Submission\\Project 1 - Mercedes-Benz Greener Manufacturing\\Dataset for the project\\\\test.csv\")\n",
    "\n",
    "\n",
    "\n",
    "# Declaring Empty lists for various operations\n",
    "string_columns = []\n",
    "numerical_columns = []\n",
    "\n",
    "uniques_train = []\n",
    "nulls_train = 0\n",
    "\n",
    "uniques_test = []\n",
    "nulls_test = 0\n",
    "\n",
    "\n",
    "#Finding no of Unique Values per Column, no of Null Values , String Columns , Numerical Columns\n",
    "for i in df_train.drop(\"y\",axis = 1).columns:\n",
    "    uniques_train.append(df_train[i].nunique())\n",
    "    nulls_train += df_train[i].isna().sum()  \n",
    "    \n",
    "    uniques_test.append(df_test[i].nunique())\n",
    "    nulls_test += df_test[i].isna().sum()\n",
    "    \n",
    "    if df_train[i].dtype == object :\n",
    "        string_columns.append(i)\n",
    "                \n",
    "    else:\n",
    "        numerical_columns.append(i)\n",
    "\n",
    "\n",
    "#Creating a DataFrame For No of Unique Values Per Column For both Train and Test Datasets\n",
    "df_uniques = pd.DataFrame(data = np.array(uniques_train+uniques_test).reshape(2,377) ,index = [\"Train\",\"Test\"], columns = np.array(df_test.columns))\n",
    "\n",
    "\n",
    "# Printing Unique values and null values\n",
    "print('\\033[1m'+\"\\nThe number of uniqe values for both Test and Train Datasets for each colums are :\")\n",
    "display(df_uniques)\n",
    "print('\\033[1m' + \"No. of null values in train Dataset are : \" + str(nulls_train) + \"\\nNo. of null values in test Dataset are : \"  + str(nulls_test) )\n",
    "\n",
    "\n",
    "\n",
    "# LabelEncoding the string columns for both train and test Datasets\n",
    "LE = LabelEncoder()\n",
    "for i in string_columns:\n",
    "    df_train[i] = LE.fit_transform(df_train[i])\n",
    "    df_test[i] = LE.fit_transform(df_test[i])\n",
    "\n",
    "    \n",
    "# Removing the columns with Zero Variance\n",
    "for i in df_test.columns:\n",
    "    if df_train[i].var()== 0:\n",
    "        df_train.drop(i, axis=1, inplace= True)\n",
    "        df_test.drop(i, axis=1, inplace= True)\n",
    "        \n",
    "\n",
    "# Applying Dimentionality Reduction        \n",
    "x = df_train.drop([\"y\", \"ID\"],axis=1)\n",
    "test = df_test.drop([\"ID\"],axis=1)\n",
    "y = df_train[\"y\"]\n",
    "\n",
    "\n",
    "# Instanciating the XGBRegressor and the PCA\n",
    "pca= PCA(n_components=10)\n",
    "model= XGBRegressor(random_state=27)\n",
    "\n",
    "# Fitting the data using the PCA and Transforming Using XGBRegressor\n",
    "x_pca= pca.fit_transform(x)\n",
    "df_test_pca= pca.transform(test)\n",
    "model.fit(x_pca, y)\n",
    "predictions= model.predict(df_test_pca)\n",
    "\n",
    "print(\"\\npredictions =\"+'\\033[0m',predictions)"
   ]
  },
  {
   "cell_type": "code",
   "execution_count": 16,
   "metadata": {},
   "outputs": [
    {
     "data": {
      "image/png": "[encoded data removed]",
      "text/plain": [
       "<Figure size 432x288 with 1 Axes>"
      ]
     },
     "metadata": {
      "needs_background": "light"
     },
     "output_type": "display_data"
    }
   ],
   "source": [
    "import seaborn as sns\n",
    "df_test2_list= list(test)\n",
    "sns.boxplot(df_train[\"y\"])\n",
    "plt.hist(df_train[\"y\"], bins = 300)\n",
    "plt.show()"
   ]
  },
  {
   "cell_type": "code",
   "execution_count": 60,
   "metadata": {},
   "outputs": [
    {
     "data": {
      "text/plain": [
       "[Text(0.5, 0, 'Top 10 feature importance'), Text(0, 0.5, 'Feature importance')]"
      ]
     },
     "execution_count": 60,
     "metadata": {},
     "output_type": "execute_result"
    },
    {
     "data": {
      "image/png": "[encoded data removed]",
      "text/plain": [
       "<Figure size 432x288 with 1 Axes>"
      ]
     },
     "metadata": {},
     "output_type": "display_data"
    }
   ],
   "source": [
    "import numpy as np\n",
    "feature_imps = np.argsort(model.feature_importances_)[::-1]\n",
    "X = []\n",
    "Y = []\n",
    "\n",
    "for i in feature_imps:\n",
    "    X.append(x.columns[i])\n",
    "    Y.append(model.feature_importances_[i])\n",
    "\n",
    "ax = sns.barplot(X , Y , palette=\"Blues_d\")\n",
    "ax.set(xlabel = \"Top 10 feature importance\", ylabel = \"Feature importance\")"
   ]
  },
  {
   "cell_type": "code",
   "execution_count": 73,
   "metadata": {
    "scrolled": false
   },
   "outputs": [
    {
     "data": {
      "image/png": "[encoded data removed]",
      "text/plain": [
       "<Figure size 432x288 with 1 Axes>"
      ]
     },
     "metadata": {},
     "output_type": "display_data"
    },
    {
     "data": {
      "image/png": "[encoded data removed]",
      "text/plain": [
       "<Figure size 432x288 with 1 Axes>"
      ]
     },
     "metadata": {},
     "output_type": "display_data"
    },
    {
     "data": {
      "image/png": "[encoded data removed]",
      "text/plain": [
       "<Figure size 432x288 with 1 Axes>"
      ]
     },
     "metadata": {},
     "output_type": "display_data"
    },
    {
     "data": {
      "image/png": "[encoded data removed]",
      "text/plain": [
       "<Figure size 432x288 with 1 Axes>"
      ]
     },
     "metadata": {},
     "output_type": "display_data"
    },
    {
     "data": {
      "image/png": "[encoded data removed]",
      "text/plain": [
       "<Figure size 432x288 with 1 Axes>"
      ]
     },
     "metadata": {},
     "output_type": "display_data"
    },
    {
     "data": {
      "image/png": "[encoded data removed]",
      "text/plain": [
       "<Figure size 432x288 with 1 Axes>"
      ]
     },
     "metadata": {},
     "output_type": "display_data"
    },
    {
     "data": {
      "image/png": "[encoded data removed]",
      "text/plain": [
       "<Figure size 432x288 with 1 Axes>"
      ]
     },
     "metadata": {},
     "output_type": "display_data"
    },
    {
     "data": {
      "image/png": "[encoded data removed]",
      "text/plain": [
       "<Figure size 432x288 with 1 Axes>"
      ]
     },
     "metadata": {},
     "output_type": "display_data"
    },
    {
     "data": {
      "image/png": "[encoded data removed]",
      "text/plain": [
       "<Figure size 432x288 with 1 Axes>"
      ]
     },
     "metadata": {},
     "output_type": "display_data"
    },
    {
     "data": {
      "image/png": "[encoded data removed]",
      "text/plain": [
       "<Figure size 432x288 with 1 Axes>"
      ]
     },
     "metadata": {},
     "output_type": "display_data"
    }
   ],
   "source": [
    "for i in X:\n",
    "    plt.figure()\n",
    "    plt.boxplot(df_train[i])"
   ]
  },
  {
   "cell_type": "code",
   "execution_count": null,
   "metadata": {},
   "outputs": [],
   "source": []
  }
 ],
 "metadata": {
  "kernelspec": {
   "display_name": "Python 3.7.4 64-bit ('base': conda)",
   "language": "python",
   "name": "python37464bitbasecondae69c791a36214ac2acbfd838bb8046a8"
  },
  "language_info": {
   "codemirror_mode": {
    "name": "ipython",
    "version": 3
   },
   "file_extension": ".py",
   "mimetype": "text/x-python",
   "name": "python",
   "nbconvert_exporter": "python",
   "pygments_lexer": "ipython3",
   "version": "3.7.4"
  }
 },
 "nbformat": 4,
 "nbformat_minor": 4
}
